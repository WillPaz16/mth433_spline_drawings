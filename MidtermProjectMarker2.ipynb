{
 "cells": [
  {
   "cell_type": "code",
   "execution_count": 1,
   "id": "cf649bf1",
   "metadata": {},
   "outputs": [],
   "source": [
    "import numpy as np\n",
    "import mth433 as mth"
   ]
  },
  {
   "cell_type": "code",
   "execution_count": 2,
   "id": "3a80233a",
   "metadata": {},
   "outputs": [],
   "source": [
    "def get_h(x):\n",
    "    \"\"\"\n",
    "    We are finding the length of the jth subinterval.\n",
    "    Input: A vector x\n",
    "    Output: A vector with distances between the elements of x from j+1 to j\n",
    "    \"\"\"\n",
    "    n = len(x)\n",
    "    h = []\n",
    "    for j in range(n-1):\n",
    "        h_2 = round((x[j+1] - x[j]),5)\n",
    "        h.append(h_2)\n",
    "    return h"
   ]
  },
  {
   "cell_type": "code",
   "execution_count": 3,
   "id": "87d664f3",
   "metadata": {},
   "outputs": [],
   "source": [
    "def get_c(h,y):\n",
    "    \"\"\"\n",
    "    We are finding a column vector made up of our desired coefficients by using Ac = z, where we use h to find A.\n",
    "    Input(s): The length of the jth subinterval h and an input vector y\n",
    "    Output: a column matrix c\n",
    "    \"\"\"\n",
    "    n = len(h)\n",
    "    c = []\n",
    "    z = np.zeros(n-1)\n",
    "    A = np.zeros((n-1,n-1))\n",
    "    \n",
    "    for j in range(n-1):\n",
    "        A[j,j] = 2*(h[j] + h[j+1])\n",
    "        \n",
    "    for j in range(1,n-1):\n",
    "        A[j,j-1] = h[j]\n",
    "        A[j-1,j] = h[j]\n",
    "\n",
    "    for j in range(n-1):\n",
    "        z[j] = 3*(((y[j+2] - y[j+1])/h[j+1]) - ((y[j+1] - y[j])/h[j]))\n",
    "\n",
    "    c = np.linalg.solve(A,z)\n",
    "    c = np.insert(c,0,0)\n",
    "    c = np.insert(c,n,0)\n",
    "    return c"
   ]
  },
  {
   "cell_type": "code",
   "execution_count": 4,
   "id": "9a7a7724",
   "metadata": {},
   "outputs": [],
   "source": [
    "def get_b(c,h,y):\n",
    "    \"\"\"\n",
    "    We are trying to find the coefficient for b, by utilizing c,h,j\n",
    "    Inputs: We are inputting our y vector, our coefficents for c, and the length of the jth subinterval h\n",
    "    Output: a column matrix b\n",
    "    \"\"\"\n",
    "    n = len(y)\n",
    "    b = []\n",
    "    for j in range(0,n-1):\n",
    "        b_2 = ((y[j+1] - y[j])/h[j]) - (((2*c[j] + c[j+1])*h[j])/3)\n",
    "        b.append(b_2)\n",
    "    return b"
   ]
  },
  {
   "cell_type": "code",
   "execution_count": 5,
   "id": "d60c792d",
   "metadata": {},
   "outputs": [],
   "source": [
    "def get_d(c,h):\n",
    "    \"\"\"\n",
    "    We are trying to find the coefficient for d, by utilizing c and h \n",
    "    Inputs: Our coefficents for c and the length of the jth subinterval h\n",
    "    Output: a column matrix d\n",
    "    \"\"\"\n",
    "    n = len(y)\n",
    "    d = []\n",
    "    for j in range(n-1):\n",
    "        d_2 = (c[j+1] - c[j])/(3*h[j])\n",
    "        d.append(d_2)\n",
    "    return d"
   ]
  },
  {
   "cell_type": "code",
   "execution_count": 6,
   "id": "6a26471f",
   "metadata": {},
   "outputs": [],
   "source": [
    "def cubic_co(pts):\n",
    "    \"\"\"\n",
    "    A function that inputs an (n+1)x2 matrix pts where the first column are the x-coordinates \n",
    "    and the second column is the y-coordinates and outputs a nx4 matrix whose columns are the a,b,c,d coordinates\n",
    "    Input: A (n+1)x2 matrix (pts)\n",
    "    Output: A nx4 matrix whose columns are the a,b,c,d coordinates\n",
    "    \"\"\"\n",
    "    n = len(pts)\n",
    "    x = pts[:,0]\n",
    "    y = pts[:,1]\n",
    "    a = np.delete(y, -1)\n",
    "    h = get_h(x)\n",
    "    c = get_c(h,y)\n",
    "    b = get_b(c,h,y)\n",
    "    d = get_d(c,h)\n",
    "    c = np.delete(c, -1)\n",
    "    Q = np.array([a,b,c,d]).T\n",
    "    return Q"
   ]
  },
  {
   "cell_type": "code",
   "execution_count": 7,
   "id": "5b7b0fb4",
   "metadata": {},
   "outputs": [],
   "source": [
    "x = np.array([1,1.2,1.4,2,2.3]).T"
   ]
  },
  {
   "cell_type": "code",
   "execution_count": 8,
   "id": "77e8785f",
   "metadata": {},
   "outputs": [
    {
     "data": {
      "text/plain": [
       "[0.2, 0.2, 0.6, 0.3]"
      ]
     },
     "execution_count": 8,
     "metadata": {},
     "output_type": "execute_result"
    }
   ],
   "source": [
    "h = get_h(x)\n",
    "h"
   ]
  },
  {
   "cell_type": "code",
   "execution_count": 9,
   "id": "7e5cd08e",
   "metadata": {},
   "outputs": [],
   "source": [
    "y = np.array([-3,1,2,0,1]).T"
   ]
  },
  {
   "cell_type": "code",
   "execution_count": 10,
   "id": "d75685b2",
   "metadata": {},
   "outputs": [
    {
     "data": {
      "text/plain": [
       "array([  0.        , -52.4691358 , -15.12345679,  16.15226337,\n",
       "         0.        ])"
      ]
     },
     "execution_count": 10,
     "metadata": {},
     "output_type": "execute_result"
    }
   ],
   "source": [
    "c = get_c(h,y)\n",
    "c"
   ]
  },
  {
   "cell_type": "code",
   "execution_count": 11,
   "id": "19f3113e",
   "metadata": {},
   "outputs": [
    {
     "data": {
      "text/plain": [
       "[23.497942386831276,\n",
       " 13.004115226337449,\n",
       " -0.5144032921810715,\n",
       " 0.10288065843621386]"
      ]
     },
     "execution_count": 11,
     "metadata": {},
     "output_type": "execute_result"
    }
   ],
   "source": [
    "get_b(c,h,y)"
   ]
  },
  {
   "cell_type": "code",
   "execution_count": 12,
   "id": "db22d9f9",
   "metadata": {},
   "outputs": [
    {
     "data": {
      "text/plain": [
       "[-87.44855967078188,\n",
       " 62.24279835390945,\n",
       " 17.375400091449478,\n",
       " -17.946959304984002]"
      ]
     },
     "execution_count": 12,
     "metadata": {},
     "output_type": "execute_result"
    }
   ],
   "source": [
    "get_d(c,h)"
   ]
  },
  {
   "cell_type": "code",
   "execution_count": 13,
   "id": "04ed036d",
   "metadata": {},
   "outputs": [
    {
     "data": {
      "text/plain": [
       "array([[ 1. , -3. ],\n",
       "       [ 1.2,  1. ],\n",
       "       [ 1.4,  2. ],\n",
       "       [ 2. ,  0. ],\n",
       "       [ 2.3,  1. ]])"
      ]
     },
     "execution_count": 13,
     "metadata": {},
     "output_type": "execute_result"
    }
   ],
   "source": [
    "pts = np.array([[1,1.2,1.4,2,2.3],[-3,1,2,0,1]]).T\n",
    "pts"
   ]
  },
  {
   "cell_type": "code",
   "execution_count": 15,
   "id": "5f9fc5d7",
   "metadata": {},
   "outputs": [
    {
     "data": {
      "text/plain": [
       "array([[ -3.        ,  23.49794239,   0.        , -87.44855967],\n",
       "       [  1.        ,  13.00411523, -52.4691358 ,  62.24279835],\n",
       "       [  2.        ,  -0.51440329, -15.12345679,  17.37540009],\n",
       "       [  0.        ,   0.10288066,  16.15226337, -17.9469593 ]])"
      ]
     },
     "execution_count": 15,
     "metadata": {},
     "output_type": "execute_result"
    }
   ],
   "source": [
    "cubic_co(pts)"
   ]
  },
  {
   "cell_type": "code",
   "execution_count": null,
   "id": "6b011d9b",
   "metadata": {},
   "outputs": [],
   "source": []
  }
 ],
 "metadata": {
  "kernelspec": {
   "display_name": "Python 3 (ipykernel)",
   "language": "python",
   "name": "python3"
  },
  "language_info": {
   "codemirror_mode": {
    "name": "ipython",
    "version": 3
   },
   "file_extension": ".py",
   "mimetype": "text/x-python",
   "name": "python",
   "nbconvert_exporter": "python",
   "pygments_lexer": "ipython3",
   "version": "3.11.4"
  }
 },
 "nbformat": 4,
 "nbformat_minor": 5
}
