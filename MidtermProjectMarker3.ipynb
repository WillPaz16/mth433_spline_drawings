{
 "cells": [
  {
   "cell_type": "code",
   "execution_count": 1,
   "id": "a78e59a0",
   "metadata": {},
   "outputs": [],
   "source": [
    "import numpy as np\n",
    "import mth433 as mth\n",
    "import matplotlib.pyplot as plt"
   ]
  },
  {
   "cell_type": "code",
   "execution_count": 2,
   "id": "0ff8ca61",
   "metadata": {},
   "outputs": [],
   "source": [
    "def get_h(x):\n",
    "    \"\"\"\n",
    "    We are finding the length of the jth subinterval.\n",
    "    Input: A vector x\n",
    "    Output: A vector with distances between the elements of x from j+1 to j\n",
    "    \"\"\"\n",
    "    n = len(x)\n",
    "    h = []\n",
    "    for j in range(n-1):\n",
    "        h_2 = round((x[j+1] - x[j]),5)\n",
    "        h.append(h_2)\n",
    "    return h"
   ]
  },
  {
   "cell_type": "code",
   "execution_count": 3,
   "id": "5cc5881c",
   "metadata": {},
   "outputs": [],
   "source": [
    "def get_c(h,y):\n",
    "    \"\"\"\n",
    "    We are finding a column vector made up of our desired coefficients by using Ac = z, where we use h to find A.\n",
    "    Input(s): The length of the jth subinterval h and an input vector y\n",
    "    Output: a column matrix c\n",
    "    \"\"\"\n",
    "    n = len(h)\n",
    "    c = []\n",
    "    z = np.zeros(n-1)\n",
    "    A = np.zeros((n-1,n-1))\n",
    "    \n",
    "    for j in range(n-1):\n",
    "        A[j,j] = 2*(h[j] + h[j+1])\n",
    "        \n",
    "    for j in range(1,n-1):\n",
    "        A[j,j-1] = h[j]\n",
    "        A[j-1,j] = h[j]\n",
    "\n",
    "    for j in range(n-1):\n",
    "        z[j] = 3*(((y[j+2] - y[j+1])/h[j+1]) - ((y[j+1] - y[j])/h[j]))\n",
    "\n",
    "    c = np.linalg.solve(A,z)\n",
    "    c = np.insert(c,0,0)\n",
    "    c = np.insert(c,n,0)\n",
    "    return c"
   ]
  },
  {
   "cell_type": "code",
   "execution_count": 4,
   "id": "a4048154",
   "metadata": {},
   "outputs": [],
   "source": [
    "def get_b(c,h,y):\n",
    "    \"\"\"\n",
    "    We are trying to find the coefficient for b, by utilizing c,h,j\n",
    "    Inputs: We are inputting our y vector, our coefficents for c, and the length of the jth subinterval h\n",
    "    Output: a column matrix b\n",
    "    \"\"\"\n",
    "    n = len(y)\n",
    "    b = []\n",
    "    for j in range(0,n-1):\n",
    "        b_2 = ((y[j+1] - y[j])/h[j]) - (((2*c[j] + c[j+1])*h[j])/3)\n",
    "        b.append(b_2)\n",
    "    return b"
   ]
  },
  {
   "cell_type": "code",
   "execution_count": 5,
   "id": "a2f14930",
   "metadata": {},
   "outputs": [],
   "source": [
    "def get_d(c,h):\n",
    "    \"\"\"\n",
    "    We are trying to find the coefficient for d, by utilizing c and h \n",
    "    Inputs: Our coefficents for c and the length of the jth subinterval h\n",
    "    Output: a column matrix d\n",
    "    \"\"\"\n",
    "    n = len(c)\n",
    "    d = []\n",
    "    for j in range(n-1):\n",
    "        d_2 = (c[j+1] - c[j])/(3*h[j])\n",
    "        d.append(d_2)\n",
    "    return d"
   ]
  },
  {
   "cell_type": "code",
   "execution_count": 6,
   "id": "40757fe1",
   "metadata": {},
   "outputs": [],
   "source": [
    "def cubic_co(pts):\n",
    "    \"\"\"\n",
    "    A function that inputs an (n+1)x2 matrix pts where the first column are the x-coordinates \n",
    "    and the second column is the y-coordinates and outputs a nx4 matrix whose columns are the a,b,c,d coordinates\n",
    "    Input: A (n+1)x2 matrix (pts)\n",
    "    Output: A nx4 matrix whose columns are the a,b,c,d coordinates\n",
    "    \"\"\"\n",
    "    n = len(pts)\n",
    "    x = pts[:,0]\n",
    "    y = pts[:,1]\n",
    "    a = np.delete(y, -1)\n",
    "    h = get_h(x)\n",
    "    c = get_c(h,y)\n",
    "    b = get_b(c,h,y)\n",
    "    d = get_d(c,h)\n",
    "    c = np.delete(c, -1)\n",
    "    Q = np.array([a,b,c,d]).T\n",
    "    return Q"
   ]
  },
  {
   "cell_type": "code",
   "execution_count": 7,
   "id": "5821b683",
   "metadata": {},
   "outputs": [],
   "source": [
    "def plot_cubic(a,b,c,d,left,right):\n",
    "    \"\"\"\n",
    "    Plots the cubic function p(x) = a + b(x - left) + c(x - left)^2 + d(x - left)^3 on the interval [left,right] \n",
    "    Input: coeffiecents a,b,c,d and an interval from left to right\n",
    "    Output: The graph of our desired cubic function\n",
    "    \"\"\"\n",
    "    x = np.linspace(left,right,num=100)\n",
    "    y = a + b*(x - left) + c*(x - left)**2 + d*(x - left)**3\n",
    "    return plt.plot(x,y)"
   ]
  },
  {
   "cell_type": "code",
   "execution_count": 8,
   "id": "8be7d717",
   "metadata": {},
   "outputs": [
    {
     "data": {
      "text/plain": [
       "[<matplotlib.lines.Line2D at 0x11193e0d0>]"
      ]
     },
     "execution_count": 8,
     "metadata": {},
     "output_type": "execute_result"
    },
    {
     "data": {
      "image/png": "[encoded data removed]",
      "text/plain": [
       "<Figure size 640x480 with 1 Axes>"
      ]
     },
     "metadata": {},
     "output_type": "display_data"
    }
   ],
   "source": [
    "plot_cubic(1,0.25,-1,1,0,0.75)"
   ]
  },
  {
   "cell_type": "code",
   "execution_count": 15,
   "id": "b7024036",
   "metadata": {},
   "outputs": [],
   "source": [
    "def plot_spline(coef,x):\n",
    "    \"\"\"\n",
    "    We are taking a coefficient matrix and another vector, x, and plotting a spline.\n",
    "    \n",
    "    Note: For each j=0,...,n-1 coef[j:j+1,:] are the four coefficient of a cubic polynomial\n",
    "          and x[j], x[j+1] are the left and right endpoints where we want to plot the cubic.\n",
    "          You may assume that x[j] < x[j+1] for all j since that is what will eventually happen.\n",
    "          \n",
    "    Inputs: Coef which is nx4 numpy array and x which is an (n+1)x1 numpy array\n",
    "    Output: plot_spline should plot all n-1 of these cubics on the same plot\n",
    "    \"\"\"\n",
    "    n,_ = coef.shape\n",
    "    for j in range(n):\n",
    "        a,b,c,d = coef[j]\n",
    "        plot = plot_cubic(a,b,c,d,x[j],x[j+1])\n",
    "    return plot"
   ]
  },
  {
   "cell_type": "code",
   "execution_count": 16,
   "id": "703f3ae5",
   "metadata": {},
   "outputs": [],
   "source": [
    "co = np.array([[ -3.        ,  23.49794239,   0.        , -87.44855967],\n",
    "       [  1.        ,  13.00411523, -52.4691358 ,  62.24279835],\n",
    "       [  2.        ,  -0.51440329, -15.12345679,  17.37540009],\n",
    "       [  0.        ,   0.10288066,  16.15226337, -17.9469593 ]])"
   ]
  },
  {
   "cell_type": "code",
   "execution_count": 17,
   "id": "fb9cede3",
   "metadata": {},
   "outputs": [],
   "source": [
    "x = np.array([1,1.2,1.4,2,2.3]).T"
   ]
  },
  {
   "cell_type": "code",
   "execution_count": 18,
   "id": "081b6c74",
   "metadata": {},
   "outputs": [
    {
     "data": {
      "text/plain": [
       "[<matplotlib.lines.Line2D at 0x112a41f50>]"
      ]
     },
     "execution_count": 18,
     "metadata": {},
     "output_type": "execute_result"
    },
    {
     "data": {
      "image/png": "[encoded data removed]",
      "text/plain": [
       "<Figure size 640x480 with 1 Axes>"
      ]
     },
     "metadata": {},
     "output_type": "display_data"
    }
   ],
   "source": [
    "plot_spline(co,x)"
   ]
  },
  {
   "cell_type": "code",
   "execution_count": null,
   "id": "3b1f5f45",
   "metadata": {},
   "outputs": [],
   "source": [
    "def test(pts):\n",
    "    \"\"\"\n",
    "    Testing the validity of the previously created functions\n",
    "    Input: pts vector\n",
    "    Output: a plot\n",
    "    \"\"\"\n",
    "    x = pts[:,0:1]\n",
    "    y = pts[:,1:2]\n",
    "    cubic = cubic_co(pts)\n",
    "    plot = plot_spline(cubic,x)\n",
    "    return plot"
   ]
  },
  {
   "cell_type": "code",
   "execution_count": null,
   "id": "2666c45a",
   "metadata": {},
   "outputs": [],
   "source": [
    "pts = np.array([[1,1.2,1.4,2,2.3],[-3,1,2,0,1]]).T"
   ]
  },
  {
   "cell_type": "code",
   "execution_count": null,
   "id": "5223e939",
   "metadata": {},
   "outputs": [],
   "source": [
    "test(pts)"
   ]
  },
  {
   "cell_type": "code",
   "execution_count": null,
   "id": "e43bf235",
   "metadata": {},
   "outputs": [],
   "source": []
  },
  {
   "cell_type": "code",
   "execution_count": null,
   "id": "f32f91a9",
   "metadata": {},
   "outputs": [],
   "source": []
  }
 ],
 "metadata": {
  "kernelspec": {
   "display_name": "Python 3 (ipykernel)",
   "language": "python",
   "name": "python3"
  },
  "language_info": {
   "codemirror_mode": {
    "name": "ipython",
    "version": 3
   },
   "file_extension": ".py",
   "mimetype": "text/x-python",
   "name": "python",
   "nbconvert_exporter": "python",
   "pygments_lexer": "ipython3",
   "version": "3.11.4"
  }
 },
 "nbformat": 4,
 "nbformat_minor": 5
}
