{
 "cells": [
  {
   "cell_type": "code",
   "execution_count": 1,
   "id": "0d774e0b",
   "metadata": {},
   "outputs": [],
   "source": [
    "import numpy as np\n",
    "import mth433 as mth\n",
    "import matplotlib.pyplot as plt"
   ]
  },
  {
   "cell_type": "code",
   "execution_count": 2,
   "id": "1cce4482",
   "metadata": {},
   "outputs": [],
   "source": [
    "def get_h(x):\n",
    "    \"\"\"\n",
    "    We are finding the length of the jth subinterval.\n",
    "    Input: A vector x\n",
    "    Output: A vector with distances between the elements of x from j+1 to j\n",
    "    \"\"\"\n",
    "    n = len(x)\n",
    "    h = []\n",
    "    for j in range(n-1):\n",
    "        h_2 = (x[j+1] - x[j])\n",
    "        h.append(h_2)\n",
    "    return h"
   ]
  },
  {
   "cell_type": "code",
   "execution_count": 3,
   "id": "4f08bb85",
   "metadata": {},
   "outputs": [],
   "source": [
    "def get_c(h,y):\n",
    "    \"\"\"\n",
    "    We are finding a column vector made up of our desired coefficients by using Ac = z, where we use h to find A.\n",
    "    Input(s): The length of the jth subinterval h and an input vector y\n",
    "    Output: a column matrix c\n",
    "    \"\"\"\n",
    "    n = len(h)\n",
    "    c = []\n",
    "    z = np.zeros(n-1)\n",
    "    A = np.zeros((n-1,n-1))\n",
    "    \n",
    "    for j in range(n-1):\n",
    "        A[j,j] = 2*(h[j] + h[j+1])\n",
    "        \n",
    "    for j in range(1,n-1):\n",
    "        A[j,j-1] = h[j]\n",
    "        A[j-1,j] = h[j]\n",
    "\n",
    "    for j in range(n-1):\n",
    "        z[j] = 3*(((y[j+2] - y[j+1])/h[j+1]) - ((y[j+1] - y[j])/h[j]))\n",
    "\n",
    "    c = np.linalg.solve(A,z)\n",
    "    c = np.insert(c,0,0)\n",
    "    c = np.insert(c,n,0)\n",
    "    return c"
   ]
  },
  {
   "cell_type": "code",
   "execution_count": 4,
   "id": "4cbbc378",
   "metadata": {},
   "outputs": [],
   "source": [
    "def get_b(c,h,y):\n",
    "    \"\"\"\n",
    "    We are trying to find the coefficient for b, by utilizing c,h,j\n",
    "    Inputs: We are inputting our y vector, our coefficents for c, and the length of the jth subinterval h\n",
    "    Output: a column matrix b\n",
    "    \"\"\"\n",
    "    n = len(y)\n",
    "    b = []\n",
    "    for j in range(n-1):\n",
    "        b_2 = ((y[j+1] - y[j])/h[j]) - (((2*c[j] + c[j+1])*h[j])/3)\n",
    "        b.append(b_2)\n",
    "    return b"
   ]
  },
  {
   "cell_type": "code",
   "execution_count": 5,
   "id": "0b4527ff",
   "metadata": {},
   "outputs": [],
   "source": [
    "def get_d(c,h):\n",
    "    \"\"\"\n",
    "    We are trying to find the coefficient for d, by utilizing c and h \n",
    "    Inputs: Our coefficents for c and the length of the jth subinterval h\n",
    "    Output: a column matrix d\n",
    "    \"\"\"\n",
    "    n = len(c)\n",
    "    d = []\n",
    "    for j in range(n-1):\n",
    "        d_2 = (c[j+1] - c[j])/(3*h[j])\n",
    "        d.append(d_2)\n",
    "    return d"
   ]
  },
  {
   "cell_type": "code",
   "execution_count": 6,
   "id": "5beab28d",
   "metadata": {},
   "outputs": [],
   "source": [
    "def cubic_co2D(pts):\n",
    "    \"\"\"\n",
    "    Takes a nx2 numpy array [x,y] and makes cubic coefficients for the pairs:\n",
    "    [0,1,...,n-1].T, x and [0,1,...,n-1].T,y (just as the text says on page 283)\n",
    "    \n",
    "    Inputs: numpy array of coordinates\n",
    "    \n",
    "    Returns: A 2xn-1x3 3D arrayLinks to an external site. A where A[0, :, :] are the b,c,d cubic coefficients \n",
    "    for the first pair and A[1, :, :] are the b,c,d cubic coefficients for the second pair. \n",
    "    To initialize a 3D array to zero it's just A = np.zeros((2,n-1,3)).  \n",
    "    Indexing in a 3D array works as you think it would, but see the above link or ask me if it doesn't\n",
    "    \"\"\"\n",
    "    n,_ = pts.shape\n",
    "    x = pts[:,0]\n",
    "    y = pts[:,1]\n",
    "    \n",
    "    ascending = np.arange(0,n)\n",
    "    h = get_h(ascending)\n",
    "    \n",
    "    c_x = get_c(h,x)\n",
    "    b_x = get_b(c_x,h,x)\n",
    "    d_x = get_d(c_x,h)\n",
    "    c_x = np.delete(c_x, -1)\n",
    "    Q_x = np.array([b_x,c_x,d_x]).T\n",
    "    \n",
    "    c_y = get_c(h,y)\n",
    "    b_y = get_b(c_y,h,y)\n",
    "    d_y = get_d(c_y,h)\n",
    "    c_y = np.delete(c_y, -1)\n",
    "    Q_y = np.array([b_y,c_y,d_y]).T\n",
    "    \n",
    "    A = np.zeros((2,n-1,3))\n",
    "    \n",
    "    A[0,:,:] = Q_x\n",
    "    A[1,:,:] = Q_y\n",
    "    return A"
   ]
  },
  {
   "cell_type": "code",
   "execution_count": 7,
   "id": "c343bed7",
   "metadata": {},
   "outputs": [
    {
     "data": {
      "text/plain": [
       "array([[[-0.37489198,  0.        ,  0.20352102],\n",
       "        [ 0.23567108,  0.61056306, -0.42284706],\n",
       "        [ 0.18825604, -0.6579781 ,  0.32456077],\n",
       "        [-0.15401785,  0.31570421, -0.10523474]],\n",
       "\n",
       "       [[-0.51725804,  0.        ,  0.04647882],\n",
       "        [-0.37782159,  0.13943645,  0.06793059],\n",
       "        [ 0.10484307,  0.34322821, -0.13962972],\n",
       "        [ 0.37241033, -0.07566095,  0.02522032]]])"
      ]
     },
     "execution_count": 7,
     "metadata": {},
     "output_type": "execute_result"
    }
   ],
   "source": [
    "pts = np.array([[0.30241935, 0.83116883],\n",
    "                [0.13104839, 0.36038961],\n",
    "                [0.55443548, 0.18993506],\n",
    "                [0.40927419, 0.49837662],\n",
    "                [0.46572581, 0.82034632]])\n",
    "A = cubic_co2D(pts)\n",
    "A"
   ]
  },
  {
   "cell_type": "code",
   "execution_count": 8,
   "id": "56f4ec93",
   "metadata": {},
   "outputs": [],
   "source": [
    "def cubic_plot2D(a,b,c,d,left,right):\n",
    "    \"\"\"\n",
    "    Very slight modification of cubic_plot. \n",
    "    In this version a,b,c,d are each a 2x1 vector instead of scalars. Plot the curve:\n",
    "    t -> (a[0] + b[0](t - left) + c[0](t - left)^2 + d[0](t - left)^3, a[1] + b[1](t - left) + c[1](t - left)^2 + d[1](t - left)^3)\n",
    "    for left <= t <= right.\n",
    "    \"\"\"\n",
    "    t = np.linspace(left, right, num=100)\n",
    "    x = (a[0] + b[0]*(t - left) + c[0]*(t - left)**2 + d[0]*(t - left)**3)\n",
    "    y = a[1] + b[1]*(t - left) + c[1]*(t - left)**2 + d[1]*(t - left)**3\n",
    "    return plt.plot(x,y,'r')"
   ]
  },
  {
   "cell_type": "code",
   "execution_count": 9,
   "id": "e200ed52",
   "metadata": {},
   "outputs": [],
   "source": [
    "def spline_plot2D(coef,x,y):\n",
    "    \"\"\"\n",
    "    Very slight modification of spline_plot. \n",
    "    In this case A is a 3D array of size 2x(n-1)x3 (the output of cubic_co2D). Plot the spline.\n",
    "    \"\"\"\n",
    "    _,n,_ = coef.shape\n",
    "    A = coef\n",
    "    k = A[0,:,:]\n",
    "    l = A[1,:,:]\n",
    "    \n",
    "    for j in range(n):\n",
    "        b_x,c_x,d_x = k[j]\n",
    "        b_y,c_y,d_y = l[j]\n",
    "        a = [x[j],y[j]]\n",
    "        b = [b_x,b_y]\n",
    "        c = [c_x,c_y]\n",
    "        d = [d_x,d_y]\n",
    "        plot = cubic_plot2D(a,b,c,d,j,j+1)\n",
    "    return plot"
   ]
  },
  {
   "cell_type": "code",
   "execution_count": 10,
   "id": "8436047b",
   "metadata": {},
   "outputs": [
    {
     "data": {
      "text/plain": [
       "[<matplotlib.lines.Line2D at 0x116ee6790>]"
      ]
     },
     "execution_count": 10,
     "metadata": {},
     "output_type": "execute_result"
    },
    {
     "data": {
      "image/png": "[encoded data removed]",
      "text/plain": [
       "<Figure size 640x480 with 1 Axes>"
      ]
     },
     "metadata": {},
     "output_type": "display_data"
    }
   ],
   "source": [
    "spline_plot2D(A,pts[:,0:1],pts[:,1:2])"
   ]
  },
  {
   "cell_type": "code",
   "execution_count": 11,
   "id": "1f38ccd7",
   "metadata": {},
   "outputs": [],
   "source": [
    "pts = np.array([[0.30241935, 0.83116883],\n",
    "                [0.13104839, 0.36038961],\n",
    "                [0.55443548, 0.18993506],\n",
    "                [0.40927419, 0.49837662],\n",
    "                [0.46572581, 0.82034632]])\n",
    "A = cubic_co2D(pts)"
   ]
  },
  {
   "cell_type": "code",
   "execution_count": 12,
   "id": "b28823e7",
   "metadata": {},
   "outputs": [
    {
     "data": {
      "text/plain": [
       "array([[0.30241935],\n",
       "       [0.13104839],\n",
       "       [0.55443548],\n",
       "       [0.40927419],\n",
       "       [0.46572581]])"
      ]
     },
     "execution_count": 12,
     "metadata": {},
     "output_type": "execute_result"
    }
   ],
   "source": [
    "pts[:,0:1]"
   ]
  },
  {
   "cell_type": "code",
   "execution_count": 13,
   "id": "6714f406",
   "metadata": {},
   "outputs": [
    {
     "data": {
      "text/plain": [
       "[<matplotlib.lines.Line2D at 0x116fb1e90>]"
      ]
     },
     "execution_count": 13,
     "metadata": {},
     "output_type": "execute_result"
    },
    {
     "data": {
      "image/png": "[encoded data removed]",
      "text/plain": [
       "<Figure size 640x480 with 1 Axes>"
      ]
     },
     "metadata": {},
     "output_type": "display_data"
    }
   ],
   "source": [
    "spline_plot2D(A,pts[:,0:1],pts[:,1:2])"
   ]
  },
  {
   "cell_type": "code",
   "execution_count": 14,
   "id": "94d42d39",
   "metadata": {},
   "outputs": [],
   "source": [
    "def draw(n) :\n",
    "    \"\"\"\n",
    "    Calls pts=recordpts(n) (see this assignment for a refresher on recordpts) \n",
    "    and plots the spline curve of the resulting points. Your spline should all be the same color! \n",
    "    Feel free to set a default color and make it optional for the user to choose a color \n",
    "    or to keep the original points or not.  Basically do whatever you want with it just make sure\n",
    "    it does the bare minimum.\n",
    "    \"\"\"\n",
    "    pts = mth.recordpts(n)\n",
    "    cubic = cubic_co2D(pts)\n",
    "    plot = spline_plot2D(cubic,pts[:,0:1],pts[:,1:2])\n",
    "    return plot"
   ]
  },
  {
   "cell_type": "code",
   "execution_count": 15,
   "id": "e577ec2d",
   "metadata": {},
   "outputs": [],
   "source": [
    "%matplotlib qt"
   ]
  },
  {
   "cell_type": "code",
   "execution_count": 17,
   "id": "b59f0498",
   "metadata": {},
   "outputs": [
    {
     "data": {
      "text/plain": [
       "[<matplotlib.lines.Line2D at 0x173b51350>]"
      ]
     },
     "execution_count": 17,
     "metadata": {},
     "output_type": "execute_result"
    }
   ],
   "source": [
    "draw(5000)"
   ]
  },
  {
   "cell_type": "code",
   "execution_count": null,
   "id": "cd124570",
   "metadata": {},
   "outputs": [],
   "source": []
  },
  {
   "cell_type": "code",
   "execution_count": null,
   "id": "84438a17",
   "metadata": {},
   "outputs": [],
   "source": []
  }
 ],
 "metadata": {
  "kernelspec": {
   "display_name": "Python 3 (ipykernel)",
   "language": "python",
   "name": "python3"
  },
  "language_info": {
   "codemirror_mode": {
    "name": "ipython",
    "version": 3
   },
   "file_extension": ".py",
   "mimetype": "text/x-python",
   "name": "python",
   "nbconvert_exporter": "python",
   "pygments_lexer": "ipython3",
   "version": "3.11.4"
  }
 },
 "nbformat": 4,
 "nbformat_minor": 5
}
